{
 "cells": [
  {
   "cell_type": "markdown",
   "metadata": {},
   "source": [
    "## Sparklink demo \n",
    "\n",
    "In this demo we de-duplicate a small dataset.\n",
    "\n",
    "The purpose is to provide an end-to-end example of how to use the package\n",
    "\n",
    "I print the output at each stage using `spark_dataframe.show()`.  This is for instructional purposes only - it degrades performance and shouldn't be used in a production setting."
   ]
  },
  {
   "cell_type": "markdown",
   "metadata": {},
   "source": [
    "## Step 1:  Imports and setup\n",
    "\n",
    "The following is just boilerplate code that sets up the Spark session and sets some other non-essential configuration options"
   ]
  },
  {
   "cell_type": "code",
   "execution_count": 1,
   "metadata": {},
   "outputs": [],
   "source": [
    "import pandas as pd \n",
    "pd.options.display.max_columns = 500\n",
    "pd.options.display.max_rows = 100"
   ]
  },
  {
   "cell_type": "code",
   "execution_count": 2,
   "metadata": {},
   "outputs": [],
   "source": [
    "import logging \n",
    "logging.basicConfig()\n",
    "\n",
    "# Set to DEBUG if you want sparklink to log the SQL statements it's executing under the hood\n",
    "logging.getLogger(\"sparklink\").setLevel(logging.INFO)"
   ]
  },
  {
   "cell_type": "code",
   "execution_count": 3,
   "metadata": {},
   "outputs": [],
   "source": [
    "from pyspark.context import SparkContext, SparkConf\n",
    "from pyspark.sql import SparkSession, Window\n",
    "from pyspark.sql.types import StructType\n",
    "import pyspark.sql.functions as f\n",
    "\n",
    "conf=SparkConf()\n",
    "\n",
    "# Load in a jar that provides extended string comparison functions such as Jaro Winkler.\n",
    "# Sparklink \n",
    "conf.set('spark.driver.extraClassPath', 'jars/scala-udf-similarity-0.0.6.jar')\n",
    "conf.set('spark.jars', 'jars/scala-udf-similarity-0.0.6.jar')   \n",
    "\n",
    "\n",
    "# WARNING:\n",
    "# These config options are appropriate only if you're running Spark locally!!!\n",
    "conf.set('spark.driver.memory', '4g')\n",
    "conf.set(\"spark.sql.shuffle.partitions\", \"8\") \n",
    "\n",
    "sc = SparkContext.getOrCreate(conf=conf)\n",
    "\n",
    "spark = SparkSession(sc)\n",
    "\n",
    " # Register UDFs\n",
    "from pyspark.sql import types\n",
    "spark.udf.registerJavaFunction('jaro_winkler_sim', 'uk.gov.moj.dash.linkage.JaroWinklerSimilarity', types.DoubleType())\n",
    "spark.udf.registerJavaFunction('Dmetaphone', 'uk.gov.moj.dash.linkage.DoubleMetaphone', types.StringType())"
   ]
  },
  {
   "cell_type": "markdown",
   "metadata": {},
   "source": [
    "## Step 2:  Configure sparklink using the `settings` object\n",
    "\n",
    "Most of `sparklink` configuration options are stored in a settings dictionary.  This dictionary allows significant customisation, and can therefore get quite complex.  \n",
    "\n",
    "Customisation overrides default values built into sparklink.  For the purposes of this demo, we will specify a simple settings dictionary, which means we will be relying on these sensible defaults.\n",
    "\n",
    "To help with authoring and validation of the settings dictionary, we have written a [json schema](https://json-schema.org/), which can be found [here](https://github.com/moj-analytical-services/sparklink/blob/dev/sparklink/files/settings_jsonschema.json).  We also provide an tool for helping to author valid settings dictionaries, which includes tooltips and autocomplete, which you can find [here](https://robinlinacre.com/simple_sparklink_settings_editor/).\n",
    "\n"
   ]
  },
  {
   "cell_type": "code",
   "execution_count": 4,
   "metadata": {},
   "outputs": [],
   "source": [
    "settings = {\n",
    "    \"proportion_of_matches\": 0.5,\n",
    "    \"link_type\": \"dedupe_only\",\n",
    "    \"blocking_rules\": [\n",
    "        'l.first_name = r.first_name',\n",
    "        'l.surname = r.surname',\n",
    "        'l.dob = r.dob'\n",
    "    ],\n",
    "    \"comparison_columns\": [\n",
    "        {\n",
    "            \"col_name\": \"first_name\",\n",
    "            \"num_levels\": 3,\n",
    "            \"term_frequency_adjustments\": True\n",
    "        },\n",
    "        {\n",
    "            \"col_name\": \"surname\",\n",
    "            \"num_levels\": 3,\n",
    "            \"term_frequency_adjustments\": True\n",
    "        },\n",
    "        {\n",
    "            \"col_name\": \"dob\"\n",
    "        },\n",
    "        {\n",
    "            \"col_name\": \"city\"\n",
    "        },\n",
    "        {\n",
    "            \"col_name\": \"email\"\n",
    "        }\n",
    "    ]\n",
    "    \n",
    "}"
   ]
  },
  {
   "cell_type": "markdown",
   "metadata": {},
   "source": [
    "In words, this setting dictionary says:\n",
    "- We are performing a deduplication task (the other options are `link_only`, or `link_and_dedupe`)\n",
    "- The initial value (prior belief) for the proportion of matches amongst comparisons is 0.5 (50% of comparisons that result from the blocking rules are matches).\n",
    "- We are going generate comparisons subject to the blocking rules contained in the specified array\n",
    "- When comparing records, we will use information from the `first_name`, `surname`, `dob`, `city` and `email` columns to compute a match score.\n",
    "- For `first_name` and `surname`, string comparisons will have three levels:\n",
    "    - Level 2: Strings are (almost) exactly the same\n",
    "    - Level 1: Strings are similar \n",
    "    - Level 0: No match\n"
   ]
  },
  {
   "cell_type": "markdown",
   "metadata": {},
   "source": [
    "## Step 3:  Read in data and create comparisons using blocking rules"
   ]
  },
  {
   "cell_type": "code",
   "execution_count": 5,
   "metadata": {},
   "outputs": [
    {
     "name": "stdout",
     "output_type": "stream",
     "text": [
      "+---------+----------+-------+----------+------+--------------------+-----+\n",
      "|unique_id|first_name|surname|       dob|  city|               email|group|\n",
      "+---------+----------+-------+----------+------+--------------------+-----+\n",
      "|        0|    Julia |   null|2015-10-29|London| hannah88@powers.com|    0|\n",
      "|        1|    Julia | Taylor|2015-07-31|London| hannah88@powers.com|    0|\n",
      "|        2|    Julia | Taylor|2016-01-27|London| hannah88@powers.com|    0|\n",
      "|        3|    Julia | Taylor|2015-10-29|  null|  hannah88opowersc@m|    0|\n",
      "|        4|      oNah| Watson|2008-03-23|Bolton|matthew78@ballard...|    1|\n",
      "+---------+----------+-------+----------+------+--------------------+-----+\n",
      "only showing top 5 rows\n",
      "\n"
     ]
    }
   ],
   "source": [
    "df = spark.read.parquet(\"data/fake_1000.parquet\")\n",
    "df.show(5)"
   ]
  },
  {
   "cell_type": "code",
   "execution_count": 6,
   "metadata": {},
   "outputs": [
    {
     "name": "stdout",
     "output_type": "stream",
     "text": [
      "+-----------+-----------+------------+------------+---------+---------+----------+----------+------+------+-------------------+-------------------+\n",
      "|unique_id_l|unique_id_r|first_name_l|first_name_r|surname_l|surname_r|     dob_l|     dob_r|city_l|city_r|            email_l|            email_r|\n",
      "+-----------+-----------+------------+------------+---------+---------+----------+----------+------+------+-------------------+-------------------+\n",
      "|          0|          3|      Julia |      Julia |     null|   Taylor|2015-10-29|2015-10-29|London|  null|hannah88@powers.com| hannah88opowersc@m|\n",
      "|          0|          2|      Julia |      Julia |     null|   Taylor|2015-10-29|2016-01-27|London|London|hannah88@powers.com|hannah88@powers.com|\n",
      "|          0|          1|      Julia |      Julia |     null|   Taylor|2015-10-29|2015-07-31|London|London|hannah88@powers.com|hannah88@powers.com|\n",
      "|          1|          3|      Julia |      Julia |   Taylor|   Taylor|2015-07-31|2015-10-29|London|  null|hannah88@powers.com| hannah88opowersc@m|\n",
      "|          1|          2|      Julia |      Julia |   Taylor|   Taylor|2015-07-31|2016-01-27|London|London|hannah88@powers.com|hannah88@powers.com|\n",
      "+-----------+-----------+------------+------------+---------+---------+----------+----------+------+------+-------------------+-------------------+\n",
      "only showing top 5 rows\n",
      "\n"
     ]
    }
   ],
   "source": [
    "from sparklink.blocking import block_using_rules\n",
    "from sparklink.gammas import complete_settings_dict\n",
    "settings = complete_settings_dict(settings)\n",
    "df_comparison = block_using_rules(settings, df=df, spark=spark)\n",
    "df_comparison.show(5)"
   ]
  },
  {
   "cell_type": "markdown",
   "metadata": {},
   "source": [
    "## Step 3:  Compute Fellegi Sunter comparison vectors from the table of comparisons\n",
    "\n",
    "Columns are assumed to be strings by default.  See the 'comparison vector settings' notebook for details of configuration options."
   ]
  },
  {
   "cell_type": "code",
   "execution_count": 7,
   "metadata": {},
   "outputs": [
    {
     "name": "stdout",
     "output_type": "stream",
     "text": [
      "+-----------+-----------+------------+------------+----------------+---------+---------+-------------+----------+----------+---------+------+------+----------+-------------------+-------------------+-----------+\n",
      "|unique_id_l|unique_id_r|first_name_l|first_name_r|gamma_first_name|surname_l|surname_r|gamma_surname|     dob_l|     dob_r|gamma_dob|city_l|city_r|gamma_city|            email_l|            email_r|gamma_email|\n",
      "+-----------+-----------+------------+------------+----------------+---------+---------+-------------+----------+----------+---------+------+------+----------+-------------------+-------------------+-----------+\n",
      "|          0|          3|      Julia |      Julia |               2|     null|   Taylor|           -1|2015-10-29|2015-10-29|        1|London|  null|        -1|hannah88@powers.com| hannah88opowersc@m|          0|\n",
      "|          0|          2|      Julia |      Julia |               2|     null|   Taylor|           -1|2015-10-29|2016-01-27|        0|London|London|         1|hannah88@powers.com|hannah88@powers.com|          1|\n",
      "|          0|          1|      Julia |      Julia |               2|     null|   Taylor|           -1|2015-10-29|2015-07-31|        0|London|London|         1|hannah88@powers.com|hannah88@powers.com|          1|\n",
      "|          1|          3|      Julia |      Julia |               2|   Taylor|   Taylor|            2|2015-07-31|2015-10-29|        0|London|  null|        -1|hannah88@powers.com| hannah88opowersc@m|          0|\n",
      "|          1|          2|      Julia |      Julia |               2|   Taylor|   Taylor|            2|2015-07-31|2016-01-27|        0|London|London|         1|hannah88@powers.com|hannah88@powers.com|          1|\n",
      "+-----------+-----------+------------+------------+----------------+---------+---------+-------------+----------+----------+---------+------+------+----------+-------------------+-------------------+-----------+\n",
      "only showing top 5 rows\n",
      "\n"
     ]
    }
   ],
   "source": [
    "from sparklink.gammas import add_gammas\n",
    "\n",
    "df_gammas = add_gammas(df_comparison, settings, spark, include_orig_cols = True)\n",
    "df_gammas.persist()\n",
    "df_gammas.show(5)"
   ]
  },
  {
   "cell_type": "markdown",
   "metadata": {},
   "source": [
    "## Step 4:  Initialise parameters (m and u probabilities)"
   ]
  },
  {
   "cell_type": "code",
   "execution_count": 8,
   "metadata": {},
   "outputs": [],
   "source": [
    "from sparklink.params import Params \n",
    "params = Params(settings)\n",
    "\n",
    "\n",
    "# Note all initial parameters are customisable - see the  'comparison vector settings' notebook for details of configuration options."
   ]
  },
  {
   "cell_type": "code",
   "execution_count": 9,
   "metadata": {},
   "outputs": [
    {
     "data": {
      "text/plain": [
       "{'λ': 0.5,\n",
       " 'π': {'gamma_first_name': {'gamma_index': 0,\n",
       "   'desc': 'Comparison of first_name',\n",
       "   'column_name': 'first_name',\n",
       "   'num_levels': 3,\n",
       "   'prob_dist_match': {'level_0': {'value': 0, 'probability': 0.1},\n",
       "    'level_1': {'value': 1, 'probability': 0.2},\n",
       "    'level_2': {'value': 2, 'probability': 0.7}},\n",
       "   'prob_dist_non_match': {'level_0': {'value': 0, 'probability': 0.7},\n",
       "    'level_1': {'value': 1, 'probability': 0.19999999999999996},\n",
       "    'level_2': {'value': 2, 'probability': 0.09999999999999998}}},\n",
       "  'gamma_surname': {'gamma_index': 1,\n",
       "   'desc': 'Comparison of surname',\n",
       "   'column_name': 'surname',\n",
       "   'num_levels': 3,\n",
       "   'prob_dist_match': {'level_0': {'value': 0, 'probability': 0.1},\n",
       "    'level_1': {'value': 1, 'probability': 0.2},\n",
       "    'level_2': {'value': 2, 'probability': 0.7}},\n",
       "   'prob_dist_non_match': {'level_0': {'value': 0, 'probability': 0.7},\n",
       "    'level_1': {'value': 1, 'probability': 0.19999999999999996},\n",
       "    'level_2': {'value': 2, 'probability': 0.09999999999999998}}},\n",
       "  'gamma_dob': {'gamma_index': 2,\n",
       "   'desc': 'Comparison of dob',\n",
       "   'column_name': 'dob',\n",
       "   'num_levels': 2,\n",
       "   'prob_dist_match': {'level_0': {'value': 0, 'probability': 0.1},\n",
       "    'level_1': {'value': 1, 'probability': 0.9}},\n",
       "   'prob_dist_non_match': {'level_0': {'value': 0, 'probability': 0.9},\n",
       "    'level_1': {'value': 1, 'probability': 0.1}}},\n",
       "  'gamma_city': {'gamma_index': 3,\n",
       "   'desc': 'Comparison of city',\n",
       "   'column_name': 'city',\n",
       "   'num_levels': 2,\n",
       "   'prob_dist_match': {'level_0': {'value': 0, 'probability': 0.1},\n",
       "    'level_1': {'value': 1, 'probability': 0.9}},\n",
       "   'prob_dist_non_match': {'level_0': {'value': 0, 'probability': 0.9},\n",
       "    'level_1': {'value': 1, 'probability': 0.1}}},\n",
       "  'gamma_email': {'gamma_index': 4,\n",
       "   'desc': 'Comparison of email',\n",
       "   'column_name': 'email',\n",
       "   'num_levels': 2,\n",
       "   'prob_dist_match': {'level_0': {'value': 0, 'probability': 0.1},\n",
       "    'level_1': {'value': 1, 'probability': 0.9}},\n",
       "   'prob_dist_non_match': {'level_0': {'value': 0, 'probability': 0.9},\n",
       "    'level_1': {'value': 1, 'probability': 0.1}}}}}"
      ]
     },
     "execution_count": 9,
     "metadata": {},
     "output_type": "execute_result"
    }
   ],
   "source": [
    "#  Note that the params object has a formatted, human-readable __repr__ representation when you print it\n",
    "params.params"
   ]
  },
  {
   "cell_type": "markdown",
   "metadata": {},
   "source": [
    "## Step 5:  Repeatedly apply expectation and maximisation step to improve parameter estimates"
   ]
  },
  {
   "cell_type": "code",
   "execution_count": 11,
   "metadata": {},
   "outputs": [
    {
     "name": "stderr",
     "output_type": "stream",
     "text": [
      "INFO:sparklink.expectation_step:\n",
      "Log likelihood for iteration 5:  -15450.728664992195\n",
      "\n",
      "INFO:sparklink.expectation_step:\n",
      "Log likelihood for iteration 6:  -15445.65232979209\n",
      "\n",
      "INFO:sparklink.expectation_step:\n",
      "Log likelihood for iteration 7:  -15442.149315795372\n",
      "\n",
      "INFO:sparklink.expectation_step:\n",
      "Log likelihood for iteration 8:  -15439.608912537664\n",
      "\n",
      "INFO:sparklink.expectation_step:\n",
      "Log likelihood for iteration 9:  -15437.702593455539\n",
      "\n",
      "INFO:sparklink.expectation_step:\n",
      "Log likelihood for iteration 10:  -15436.23335290754\n",
      "\n"
     ]
    },
    {
     "name": "stdout",
     "output_type": "stream",
     "text": [
      "+--------------------+-----------+-----------+------------+------------+----------------+---------+---------+-------------+----------+----------+---------+------+----------+----------+--------------------+--------------------+-----------+-------------------------------+---------------------------+----------------------------+------------------------+------------------------+--------------------+-------------------------+---------------------+--------------------------+----------------------+\n",
      "|   match_probability|unique_id_l|unique_id_r|first_name_l|first_name_r|gamma_first_name|surname_l|surname_r|gamma_surname|     dob_l|     dob_r|gamma_dob|city_l|    city_r|gamma_city|             email_l|             email_r|gamma_email|prob_gamma_first_name_non_match|prob_gamma_first_name_match|prob_gamma_surname_non_match|prob_gamma_surname_match|prob_gamma_dob_non_match|prob_gamma_dob_match|prob_gamma_city_non_match|prob_gamma_city_match|prob_gamma_email_non_match|prob_gamma_email_match|\n",
      "+--------------------+-----------+-----------+------------+------------+----------------+---------+---------+-------------+----------+----------+---------+------+----------+----------+--------------------+--------------------+-----------+-------------------------------+---------------------------+----------------------------+------------------------+------------------------+--------------------+-------------------------+---------------------+--------------------------+----------------------+\n",
      "|  0.8499996102928529|          0|          3|      Julia |      Julia |               2|     null|   Taylor|           -1|2015-10-29|2015-10-29|        1|London|      null|        -1| hannah88@powers.com|  hannah88opowersc@m|          0|            0.49048498272895813|         0.4736277461051941|                         1.0|                     1.0|    0.025586070492863655|  0.8065431118011475|                      1.0|                  1.0|        0.9834405183792114|    0.2961462140083313|\n",
      "|  0.9597128230105517|          0|          2|      Julia |      Julia |               2|     null|   Taylor|           -1|2015-10-29|2016-01-27|        0|London|    London|         1| hannah88@powers.com| hannah88@powers.com|          1|            0.49048498272895813|         0.4736277461051941|                         1.0|                     1.0|      0.9744139313697815| 0.19345685839653015|      0.14671185612678528|   0.6937756538391113|      0.016559481620788574|    0.7038537859916687|\n",
      "|  0.9597128230105517|          0|          1|      Julia |      Julia |               2|     null|   Taylor|           -1|2015-10-29|2015-07-31|        0|London|    London|         1| hannah88@powers.com| hannah88@powers.com|          1|            0.49048498272895813|         0.4736277461051941|                         1.0|                     1.0|      0.9744139313697815| 0.19345685839653015|      0.14671185612678528|   0.6937756538391113|      0.016559481620788574|    0.7038537859916687|\n",
      "|0.025124765905384792|          1|          3|      Julia |      Julia |               2|   Taylor|   Taylor|            2|2015-07-31|2015-10-29|        0|London|      null|        -1| hannah88@powers.com|  hannah88opowersc@m|          0|            0.49048498272895813|         0.4736277461051941|          0.6821152567863464|     0.49256977438926697|      0.9744139313697815| 0.19345685839653015|                      1.0|                  1.0|        0.9834405183792114|    0.2961462140083313|\n",
      "|  0.9450616413922115|          1|          2|      Julia |      Julia |               2|   Taylor|   Taylor|            2|2015-07-31|2016-01-27|        0|London|    London|         1| hannah88@powers.com| hannah88@powers.com|          1|            0.49048498272895813|         0.4736277461051941|          0.6821152567863464|     0.49256977438926697|      0.9744139313697815| 0.19345685839653015|      0.14671185612678528|   0.6937756538391113|      0.016559481620788574|    0.7038537859916687|\n",
      "|0.025124765905384792|          2|          3|      Julia |      Julia |               2|   Taylor|   Taylor|            2|2016-01-27|2015-10-29|        0|London|      null|        -1| hannah88@powers.com|  hannah88opowersc@m|          0|            0.49048498272895813|         0.4736277461051941|          0.6821152567863464|     0.49256977438926697|      0.9744139313697815| 0.19345685839653015|                      1.0|                  1.0|        0.9834405183792114|    0.2961462140083313|\n",
      "| 0.01725394554749187|          5|        737|       Noah |       Noah |               2|   Watson|   Walker|            0|2008-03-23|2019-05-01|        0|Bolton| Leicester|         0|matthew78@ballard...| jonohan52@eaton.arg|          0|            0.49048498272895813|         0.4736277461051941|         0.31594666838645935|     0.43308576941490173|      0.9744139313697815| 0.19345685839653015|       0.8532881736755371|  0.30622434616088867|        0.9834405183792114|    0.2961462140083313|\n",
      "| 0.01725394554749187|          5|        736|       Noah |       Noah |               2|   Watson|   Walker|            0|2008-03-23|2019-05-01|        0|Bolton| Leicester|         0|matthew78@ballard...|jonathan52@eaton.org|          0|            0.49048498272895813|         0.4736277461051941|         0.31594666838645935|     0.43308576941490173|      0.9744139313697815| 0.19345685839653015|       0.8532881736755371|  0.30622434616088867|        0.9834405183792114|    0.2961462140083313|\n",
      "| 0.01725394554749187|          5|        638|       Noah |       Noah |               2|   Watson|   Gibson|            0|2008-03-23|1987-08-21|        0|Bolton|    London|         0|matthew78@ballard...|  avazquez@banks.com|          0|            0.49048498272895813|         0.4736277461051941|         0.31594666838645935|     0.43308576941490173|      0.9744139313697815| 0.19345685839653015|       0.8532881736755371|  0.30622434616088867|        0.9834405183792114|    0.2961462140083313|\n",
      "| 0.01725394554749187|          5|        637|       Noah |       Noah |               2|   Watson|   Gibson|            0|2008-03-23|1987-07-20|        0|Bolton|    London|         0|matthew78@ballard...|   avazquec@bnks.zom|          0|            0.49048498272895813|         0.4736277461051941|         0.31594666838645935|     0.43308576941490173|      0.9744139313697815| 0.19345685839653015|       0.8532881736755371|  0.30622434616088867|        0.9834405183792114|    0.2961462140083313|\n",
      "| 0.01725394554749187|          5|        635|       Noah |       Noah |               2|   Watson|   Gibson|            0|2008-03-23|1987-08-21|        0|Bolton|    London|         0|matthew78@ballard...|  avazquez@banks.com|          0|            0.49048498272895813|         0.4736277461051941|         0.31594666838645935|     0.43308576941490173|      0.9744139313697815| 0.19345685839653015|       0.8532881736755371|  0.30622434616088867|        0.9834405183792114|    0.2961462140083313|\n",
      "| 0.01725394554749187|          5|        634|       Noah |       Noah |               2|   Watson|   Gibson|            0|2008-03-23|1987-08-21|        0|Bolton|    London|         0|matthew78@ballard...|  avazquez@banks.com|          0|            0.49048498272895813|         0.4736277461051941|         0.31594666838645935|     0.43308576941490173|      0.9744139313697815| 0.19345685839653015|       0.8532881736755371|  0.30622434616088867|        0.9834405183792114|    0.2961462140083313|\n",
      "| 0.01725394554749187|          5|        633|       Noah |       Noah |               2|   Watson|   Gibson|            0|2008-03-23|1987-08-16|        0|Bolton|     Ldnon|         0|matthew78@ballard...|  avazquez@banks.com|          0|            0.49048498272895813|         0.4736277461051941|         0.31594666838645935|     0.43308576941490173|      0.9744139313697815| 0.19345685839653015|       0.8532881736755371|  0.30622434616088867|        0.9834405183792114|    0.2961462140083313|\n",
      "| 0.01725394554749187|          5|        632|       Noah |       Noah |               2|   Watson|   Gibson|            0|2008-03-23|1987-05-18|        0|Bolton|    London|         0|matthew78@ballard...|  avazquez@banks.com|          0|            0.49048498272895813|         0.4736277461051941|         0.31594666838645935|     0.43308576941490173|      0.9744139313697815| 0.19345685839653015|       0.8532881736755371|  0.30622434616088867|        0.9834405183792114|    0.2961462140083313|\n",
      "| 0.01725394554749187|          5|        104|       Noah |       Noah |               2|   Watson|    Morir|            0|2008-03-23|1983-07-20|        0|Bolton|Birmingham|         0|matthew78@ballard...|emilysmithirwni-m...|          0|            0.49048498272895813|         0.4736277461051941|         0.31594666838645935|     0.43308576941490173|      0.9744139313697815| 0.19345685839653015|       0.8532881736755371|  0.30622434616088867|        0.9834405183792114|    0.2961462140083313|\n",
      "| 0.01725394554749187|          5|        102|       Noah |       Noah |               2|   Watson|   Morris|            0|2008-03-23|1983-07-20|        0|Bolton|Birmingham|         0|matthew78@ballard...|emilysmith@irwin-...|          0|            0.49048498272895813|         0.4736277461051941|         0.31594666838645935|     0.43308576941490173|      0.9744139313697815| 0.19345685839653015|       0.8532881736755371|  0.30622434616088867|        0.9834405183792114|    0.2961462140083313|\n",
      "| 0.04079800858989323|          5|        100|       Noah |       Noah |               2|   Watson|     null|           -1|2008-03-23|1983-07-20|        0|Bolton| Birmingha|         0|matthew78@ballard...|                null|         -1|            0.49048498272895813|         0.4736277461051941|                         1.0|                     1.0|      0.9744139313697815| 0.19345685839653015|       0.8532881736755371|  0.30622434616088867|                       1.0|                   1.0|\n",
      "| 0.01725394554749187|          5|         99|       Noah |       Noah |               2|   Watson|   Morris|            0|2008-03-23|1983-07-20|        0|Bolton|Birmingham|         0|matthew78@ballard...|emilysmith@irwin-...|          0|            0.49048498272895813|         0.4736277461051941|         0.31594666838645935|     0.43308576941490173|      0.9744139313697815| 0.19345685839653015|       0.8532881736755371|  0.30622434616088867|        0.9834405183792114|    0.2961462140083313|\n",
      "| 0.01725394554749187|          5|         97|       Noah |       Noah |               2|   Watson|   Morris|            0|2008-03-23|1983-07-20|        0|Bolton|Birmingham|         0|matthew78@ballard...|emilysmith@irwin-...|          0|            0.49048498272895813|         0.4736277461051941|         0.31594666838645935|     0.43308576941490173|      0.9744139313697815| 0.19345685839653015|       0.8532881736755371|  0.30622434616088867|        0.9834405183792114|    0.2961462140083313|\n",
      "|  0.8710216780064978|          5|         12|       Noah |       Noah |               2|   Watson|     null|           -1|2008-03-23|2008-03-23|        1|Bolton|     Blotn|         0|matthew78@ballard...|                null|         -1|            0.49048498272895813|         0.4736277461051941|                         1.0|                     1.0|    0.025586070492863655|  0.8065431118011475|       0.8532881736755371|  0.30622434616088867|                       1.0|                   1.0|\n",
      "+--------------------+-----------+-----------+------------+------------+----------------+---------+---------+-------------+----------+----------+---------+------+----------+----------+--------------------+--------------------+-----------+-------------------------------+---------------------------+----------------------------+------------------------+------------------------+--------------------+-------------------------+---------------------+--------------------------+----------------------+\n",
      "only showing top 20 rows\n",
      "\n"
     ]
    }
   ],
   "source": [
    "from sparklink.iterate import iterate\n",
    "logging.getLogger(\"sparklink\").setLevel(logging.INFO)\n",
    "df_e = iterate(df_gammas, spark, params, num_iterations=5, compute_ll=True)\n",
    "df_e.persist()\n",
    "df_e.show()"
   ]
  },
  {
   "cell_type": "markdown",
   "metadata": {},
   "source": [
    "## Step 6: Inspect results \n",
    "\n"
   ]
  },
  {
   "cell_type": "code",
   "execution_count": 12,
   "metadata": {},
   "outputs": [
    {
     "data": {
      "text/html": [
       "<div>\n",
       "<style scoped>\n",
       "    .dataframe tbody tr th:only-of-type {\n",
       "        vertical-align: middle;\n",
       "    }\n",
       "\n",
       "    .dataframe tbody tr th {\n",
       "        vertical-align: top;\n",
       "    }\n",
       "\n",
       "    .dataframe thead th {\n",
       "        text-align: right;\n",
       "    }\n",
       "</style>\n",
       "<table border=\"1\" class=\"dataframe\">\n",
       "  <thead>\n",
       "    <tr style=\"text-align: right;\">\n",
       "      <th></th>\n",
       "      <th>match_probability</th>\n",
       "      <th>unique_id_l</th>\n",
       "      <th>unique_id_r</th>\n",
       "      <th>first_name_l</th>\n",
       "      <th>first_name_r</th>\n",
       "      <th>gamma_first_name</th>\n",
       "      <th>surname_l</th>\n",
       "      <th>surname_r</th>\n",
       "      <th>gamma_surname</th>\n",
       "      <th>dob_l</th>\n",
       "      <th>dob_r</th>\n",
       "      <th>gamma_dob</th>\n",
       "      <th>city_l</th>\n",
       "      <th>city_r</th>\n",
       "      <th>gamma_city</th>\n",
       "      <th>email_l</th>\n",
       "      <th>email_r</th>\n",
       "      <th>gamma_email</th>\n",
       "      <th>prob_gamma_first_name_non_match</th>\n",
       "      <th>prob_gamma_first_name_match</th>\n",
       "      <th>prob_gamma_surname_non_match</th>\n",
       "      <th>prob_gamma_surname_match</th>\n",
       "      <th>prob_gamma_dob_non_match</th>\n",
       "      <th>prob_gamma_dob_match</th>\n",
       "      <th>prob_gamma_city_non_match</th>\n",
       "      <th>prob_gamma_city_match</th>\n",
       "      <th>prob_gamma_email_non_match</th>\n",
       "      <th>prob_gamma_email_match</th>\n",
       "    </tr>\n",
       "  </thead>\n",
       "  <tbody>\n",
       "    <tr>\n",
       "      <td>1418</td>\n",
       "      <td>0.999634</td>\n",
       "      <td>519</td>\n",
       "      <td>525</td>\n",
       "      <td>Martha</td>\n",
       "      <td>Martha</td>\n",
       "      <td>2</td>\n",
       "      <td>Brown</td>\n",
       "      <td>Brown</td>\n",
       "      <td>2</td>\n",
       "      <td>2002-09-01</td>\n",
       "      <td>2002-09-01</td>\n",
       "      <td>1</td>\n",
       "      <td>Southend-on-Sea</td>\n",
       "      <td>Southend-on-Sea</td>\n",
       "      <td>1</td>\n",
       "      <td>watsonthomas@jones-stuart.biz</td>\n",
       "      <td>watsonthomas@jones-stuart.biz</td>\n",
       "      <td>1</td>\n",
       "      <td>0.490485</td>\n",
       "      <td>0.473628</td>\n",
       "      <td>0.682115</td>\n",
       "      <td>0.492570</td>\n",
       "      <td>0.025586</td>\n",
       "      <td>0.806543</td>\n",
       "      <td>0.146712</td>\n",
       "      <td>0.693776</td>\n",
       "      <td>0.016559</td>\n",
       "      <td>0.703854</td>\n",
       "    </tr>\n",
       "    <tr>\n",
       "      <td>1029</td>\n",
       "      <td>0.017254</td>\n",
       "      <td>359</td>\n",
       "      <td>934</td>\n",
       "      <td>George</td>\n",
       "      <td>George</td>\n",
       "      <td>2</td>\n",
       "      <td>Wallace</td>\n",
       "      <td>Hodgson</td>\n",
       "      <td>0</td>\n",
       "      <td>2018-10-31</td>\n",
       "      <td>1980-12-30</td>\n",
       "      <td>0</td>\n",
       "      <td>Stoke-on-Trent</td>\n",
       "      <td>Sheffield</td>\n",
       "      <td>0</td>\n",
       "      <td>jonathan74@glover.com</td>\n",
       "      <td>lori8y@hu8h.biz</td>\n",
       "      <td>0</td>\n",
       "      <td>0.490485</td>\n",
       "      <td>0.473628</td>\n",
       "      <td>0.315947</td>\n",
       "      <td>0.433086</td>\n",
       "      <td>0.974414</td>\n",
       "      <td>0.193457</td>\n",
       "      <td>0.853288</td>\n",
       "      <td>0.306224</td>\n",
       "      <td>0.983441</td>\n",
       "      <td>0.296146</td>\n",
       "    </tr>\n",
       "    <tr>\n",
       "      <td>2248</td>\n",
       "      <td>0.566253</td>\n",
       "      <td>982</td>\n",
       "      <td>983</td>\n",
       "      <td>Ball</td>\n",
       "      <td>Ball</td>\n",
       "      <td>2</td>\n",
       "      <td>Layla</td>\n",
       "      <td>Layla</td>\n",
       "      <td>2</td>\n",
       "      <td>1992-05-07</td>\n",
       "      <td>1992-04-02</td>\n",
       "      <td>0</td>\n",
       "      <td>Newcastle-upoT-nye</td>\n",
       "      <td>Newcastle-upon-Tyne</td>\n",
       "      <td>0</td>\n",
       "      <td>stacykelly@brown.info</td>\n",
       "      <td>stacykelly@brown.info</td>\n",
       "      <td>1</td>\n",
       "      <td>0.490485</td>\n",
       "      <td>0.473628</td>\n",
       "      <td>0.682115</td>\n",
       "      <td>0.492570</td>\n",
       "      <td>0.974414</td>\n",
       "      <td>0.193457</td>\n",
       "      <td>0.853288</td>\n",
       "      <td>0.306224</td>\n",
       "      <td>0.016559</td>\n",
       "      <td>0.703854</td>\n",
       "    </tr>\n",
       "    <tr>\n",
       "      <td>2192</td>\n",
       "      <td>0.995199</td>\n",
       "      <td>933</td>\n",
       "      <td>936</td>\n",
       "      <td>George</td>\n",
       "      <td>George</td>\n",
       "      <td>2</td>\n",
       "      <td>Hodgson</td>\n",
       "      <td>Hodgson</td>\n",
       "      <td>2</td>\n",
       "      <td>1980-12-30</td>\n",
       "      <td>1980-12-30</td>\n",
       "      <td>1</td>\n",
       "      <td>Sheffield</td>\n",
       "      <td>Sheffied</td>\n",
       "      <td>0</td>\n",
       "      <td>lori88@huynh.biz</td>\n",
       "      <td>lori88@huynh.biz</td>\n",
       "      <td>1</td>\n",
       "      <td>0.490485</td>\n",
       "      <td>0.473628</td>\n",
       "      <td>0.682115</td>\n",
       "      <td>0.492570</td>\n",
       "      <td>0.025586</td>\n",
       "      <td>0.806543</td>\n",
       "      <td>0.853288</td>\n",
       "      <td>0.306224</td>\n",
       "      <td>0.016559</td>\n",
       "      <td>0.703854</td>\n",
       "    </tr>\n",
       "    <tr>\n",
       "      <td>1484</td>\n",
       "      <td>0.803614</td>\n",
       "      <td>555</td>\n",
       "      <td>557</td>\n",
       "      <td>Henry</td>\n",
       "      <td>Henry</td>\n",
       "      <td>2</td>\n",
       "      <td>Owen</td>\n",
       "      <td>Owen</td>\n",
       "      <td>2</td>\n",
       "      <td>2016-05-16</td>\n",
       "      <td>2016-05-16</td>\n",
       "      <td>1</td>\n",
       "      <td>None</td>\n",
       "      <td>Kingston-upon-Hull</td>\n",
       "      <td>-1</td>\n",
       "      <td>nicholasbutler@jackson.net</td>\n",
       "      <td>nicobaslutler@jackson.net</td>\n",
       "      <td>0</td>\n",
       "      <td>0.490485</td>\n",
       "      <td>0.473628</td>\n",
       "      <td>0.682115</td>\n",
       "      <td>0.492570</td>\n",
       "      <td>0.025586</td>\n",
       "      <td>0.806543</td>\n",
       "      <td>1.000000</td>\n",
       "      <td>1.000000</td>\n",
       "      <td>0.983441</td>\n",
       "      <td>0.296146</td>\n",
       "    </tr>\n",
       "  </tbody>\n",
       "</table>\n",
       "</div>"
      ],
      "text/plain": [
       "      match_probability  unique_id_l  unique_id_r first_name_l first_name_r  \\\n",
       "1418           0.999634          519          525      Martha       Martha    \n",
       "1029           0.017254          359          934      George       George    \n",
       "2248           0.566253          982          983         Ball         Ball   \n",
       "2192           0.995199          933          936      George       George    \n",
       "1484           0.803614          555          557       Henry        Henry    \n",
       "\n",
       "      gamma_first_name surname_l surname_r  gamma_surname       dob_l  \\\n",
       "1418                 2     Brown     Brown              2  2002-09-01   \n",
       "1029                 2   Wallace   Hodgson              0  2018-10-31   \n",
       "2248                 2    Layla     Layla               2  1992-05-07   \n",
       "2192                 2   Hodgson   Hodgson              2  1980-12-30   \n",
       "1484                 2      Owen      Owen              2  2016-05-16   \n",
       "\n",
       "           dob_r  gamma_dob              city_l               city_r  \\\n",
       "1418  2002-09-01          1     Southend-on-Sea      Southend-on-Sea   \n",
       "1029  1980-12-30          0      Stoke-on-Trent            Sheffield   \n",
       "2248  1992-04-02          0  Newcastle-upoT-nye  Newcastle-upon-Tyne   \n",
       "2192  1980-12-30          1           Sheffield             Sheffied   \n",
       "1484  2016-05-16          1                None   Kingston-upon-Hull   \n",
       "\n",
       "      gamma_city                        email_l  \\\n",
       "1418           1  watsonthomas@jones-stuart.biz   \n",
       "1029           0          jonathan74@glover.com   \n",
       "2248           0          stacykelly@brown.info   \n",
       "2192           0               lori88@huynh.biz   \n",
       "1484          -1     nicholasbutler@jackson.net   \n",
       "\n",
       "                            email_r  gamma_email  \\\n",
       "1418  watsonthomas@jones-stuart.biz            1   \n",
       "1029                lori8y@hu8h.biz            0   \n",
       "2248          stacykelly@brown.info            1   \n",
       "2192               lori88@huynh.biz            1   \n",
       "1484      nicobaslutler@jackson.net            0   \n",
       "\n",
       "      prob_gamma_first_name_non_match  prob_gamma_first_name_match  \\\n",
       "1418                         0.490485                     0.473628   \n",
       "1029                         0.490485                     0.473628   \n",
       "2248                         0.490485                     0.473628   \n",
       "2192                         0.490485                     0.473628   \n",
       "1484                         0.490485                     0.473628   \n",
       "\n",
       "      prob_gamma_surname_non_match  prob_gamma_surname_match  \\\n",
       "1418                      0.682115                  0.492570   \n",
       "1029                      0.315947                  0.433086   \n",
       "2248                      0.682115                  0.492570   \n",
       "2192                      0.682115                  0.492570   \n",
       "1484                      0.682115                  0.492570   \n",
       "\n",
       "      prob_gamma_dob_non_match  prob_gamma_dob_match  \\\n",
       "1418                  0.025586              0.806543   \n",
       "1029                  0.974414              0.193457   \n",
       "2248                  0.974414              0.193457   \n",
       "2192                  0.025586              0.806543   \n",
       "1484                  0.025586              0.806543   \n",
       "\n",
       "      prob_gamma_city_non_match  prob_gamma_city_match  \\\n",
       "1418                   0.146712               0.693776   \n",
       "1029                   0.853288               0.306224   \n",
       "2248                   0.853288               0.306224   \n",
       "2192                   0.853288               0.306224   \n",
       "1484                   1.000000               1.000000   \n",
       "\n",
       "      prob_gamma_email_non_match  prob_gamma_email_match  \n",
       "1418                    0.016559                0.703854  \n",
       "1029                    0.983441                0.296146  \n",
       "2248                    0.016559                0.703854  \n",
       "2192                    0.016559                0.703854  \n",
       "1484                    0.983441                0.296146  "
      ]
     },
     "execution_count": 12,
     "metadata": {},
     "output_type": "execute_result"
    }
   ],
   "source": [
    "# Inspect main dataframe that contains the match scores\n",
    "df_e.toPandas().sample(5)"
   ]
  },
  {
   "cell_type": "markdown",
   "metadata": {},
   "source": [
    "Note that the `params` object is updated during the process of iteration.\n",
    "\n",
    "This means that if we inspect it again, we will see a new set of parameters - those that result from the application of the expectation maximiastion algorithm"
   ]
  },
  {
   "cell_type": "code",
   "execution_count": null,
   "metadata": {},
   "outputs": [],
   "source": [
    "params.probability_distribution_chart()"
   ]
  },
  {
   "cell_type": "markdown",
   "metadata": {},
   "source": [
    "An alternative representation of the parameters displays them in terms of the effect different values in the comparison vectors have on the match probability:"
   ]
  },
  {
   "cell_type": "code",
   "execution_count": null,
   "metadata": {},
   "outputs": [],
   "source": [
    "params.adjustment_factor_chart()"
   ]
  },
  {
   "cell_type": "code",
   "execution_count": null,
   "metadata": {},
   "outputs": [],
   "source": [
    "# If charts aren't displaying correctly in your notebook, you can write them to a file (by default sparklink_charts.html)\n",
    "params.all_charts_write_html_file()"
   ]
  },
  {
   "cell_type": "markdown",
   "metadata": {},
   "source": [
    "You can also generate a report which explains how the match probability was computed for an individual comparison row.  \n",
    "\n",
    "Note that you need to convert the row to a dictionary for this to work"
   ]
  },
  {
   "cell_type": "code",
   "execution_count": null,
   "metadata": {},
   "outputs": [],
   "source": [
    "from sparklink.intuition import intuition_report\n",
    "row_dict = df_e.toPandas().sample(1).to_dict(orient=\"records\")[0]\n",
    "print(intuition_report(row_dict, params))"
   ]
  },
  {
   "cell_type": "markdown",
   "metadata": {},
   "source": [
    "## Step 7: Term frequency adjustments\n",
    "\n",
    "Sparklink enables you to make adjustments for term frequency on any number of columns\n",
    "\n",
    "This enables match probabilities to be adjusted for e.g. the fact John Smith is more prevalent than Robin Linacre"
   ]
  },
  {
   "cell_type": "code",
   "execution_count": null,
   "metadata": {},
   "outputs": [],
   "source": [
    "from sparklink.term_frequencies import make_adjustment_for_term_frequencies\n",
    "df_e_adj = make_adjustment_for_term_frequencies(df_e, params, settings, retain_adjustment_columns=True, spark=spark)"
   ]
  },
  {
   "cell_type": "code",
   "execution_count": null,
   "metadata": {},
   "outputs": [],
   "source": [
    "pdtf = df_e_adj.toPandas()\n",
    "sam = pdtf.sample(10)\n",
    "sam[[\"match_probability\", \"tf_adjusted_match_prob\"] + list(pdtf.columns)]"
   ]
  },
  {
   "cell_type": "code",
   "execution_count": null,
   "metadata": {},
   "outputs": [],
   "source": []
  },
  {
   "cell_type": "code",
   "execution_count": null,
   "metadata": {},
   "outputs": [],
   "source": []
  },
  {
   "cell_type": "code",
   "execution_count": null,
   "metadata": {},
   "outputs": [],
   "source": []
  }
 ],
 "metadata": {
  "kernelspec": {
   "display_name": "Python 3",
   "language": "python",
   "name": "python3"
  },
  "language_info": {
   "codemirror_mode": {
    "name": "ipython",
    "version": 3
   },
   "file_extension": ".py",
   "mimetype": "text/x-python",
   "name": "python",
   "nbconvert_exporter": "python",
   "pygments_lexer": "ipython3",
   "version": "3.6.9"
  }
 },
 "nbformat": 4,
 "nbformat_minor": 4
}
